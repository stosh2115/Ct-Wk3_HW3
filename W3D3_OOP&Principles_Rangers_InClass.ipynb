{
 "cells": [
  {
   "cell_type": "markdown",
   "metadata": {},
   "source": [
    " <h1 align = center> Principles of Object Oriented Programming </h1>"
   ]
  },
  {
   "cell_type": "markdown",
   "metadata": {},
   "source": [
    "#### 4 principles\n",
    "- Encapsulation\n",
    "- Inheritance\n",
    "- Polymorphism\n",
    "- Abstraction\n"
   ]
  },
  {
   "cell_type": "markdown",
   "metadata": {},
   "source": [
    "## ENCAPSULATION"
   ]
  },
  {
   "cell_type": "markdown",
   "metadata": {},
   "source": [
    "In encapsulation, the variables of a class can be made hidden from other classes, and can be accessed only through the methods of their current class. Therefore, it is also known as data hiding.\n",
    "<br><br>\n",
    "Encapsulation can be described as a protective barrier that prevents the code and data being randomly accessed by other code defined outside the class. Access to the data and code is tightly controlled by a class."
   ]
  },
  {
   "cell_type": "code",
   "execution_count": 24,
   "metadata": {},
   "outputs": [],
   "source": [
    "from datetime import timedelta, date\n",
    "from IPython.display import Image\n",
    "import requests\n",
    "from time import sleep\n",
    "\n",
    "generic_image = 'codeflix.png'\n"
   ]
  },
  {
   "cell_type": "code",
   "execution_count": 22,
   "metadata": {},
   "outputs": [],
   "source": [
    "class Testvideo():\n",
    "    def __init__(self):\n",
    "        self.title = None\n",
    "\n",
    "    def add_title(self):\n",
    "        new_title = input(\"What are you watching?\")\n",
    "        print(f\"You are watching: {self.title}, now you're watching {new_title}\")\n",
    "        self.title = new_title\n",
    "        self.display_title()\n",
    "        \n",
    "    def display_title(self):\n",
    "        print(f\"You are watching: {self.title}\")\n",
    "        \n",
    "\n",
    "\n",
    "my_video = Testvideo()\n",
    "# not a good practice\n",
    "# my_video.title = \"New Video title\"\n",
    "\n"
   ]
  },
  {
   "cell_type": "code",
   "execution_count": 23,
   "metadata": {},
   "outputs": [
    {
     "ename": "KeyboardInterrupt",
     "evalue": "Interrupted by user",
     "output_type": "error",
     "traceback": [
      "\u001b[1;31m---------------------------------------------------------------------------\u001b[0m",
      "\u001b[1;31mKeyboardInterrupt\u001b[0m                         Traceback (most recent call last)",
      "Cell \u001b[1;32mIn[23], line 1\u001b[0m\n\u001b[1;32m----> 1\u001b[0m \u001b[43mmy_video\u001b[49m\u001b[38;5;241;43m.\u001b[39;49m\u001b[43madd_title\u001b[49m\u001b[43m(\u001b[49m\u001b[43m)\u001b[49m\n",
      "Cell \u001b[1;32mIn[22], line 6\u001b[0m, in \u001b[0;36mTestvideo.add_title\u001b[1;34m(self)\u001b[0m\n\u001b[0;32m      5\u001b[0m \u001b[38;5;28;01mdef\u001b[39;00m \u001b[38;5;21madd_title\u001b[39m(\u001b[38;5;28mself\u001b[39m):\n\u001b[1;32m----> 6\u001b[0m     new_title \u001b[38;5;241m=\u001b[39m \u001b[38;5;28;43minput\u001b[39;49m\u001b[43m(\u001b[49m\u001b[38;5;124;43m\"\u001b[39;49m\u001b[38;5;124;43mWhat are you watching?\u001b[39;49m\u001b[38;5;124;43m\"\u001b[39;49m\u001b[43m)\u001b[49m\n\u001b[0;32m      7\u001b[0m     \u001b[38;5;28mprint\u001b[39m(\u001b[38;5;124mf\u001b[39m\u001b[38;5;124m\"\u001b[39m\u001b[38;5;124mYou are watching: \u001b[39m\u001b[38;5;132;01m{\u001b[39;00m\u001b[38;5;28mself\u001b[39m\u001b[38;5;241m.\u001b[39mtitle\u001b[38;5;132;01m}\u001b[39;00m\u001b[38;5;124m, now you\u001b[39m\u001b[38;5;124m'\u001b[39m\u001b[38;5;124mre watching \u001b[39m\u001b[38;5;132;01m{\u001b[39;00mnew_title\u001b[38;5;132;01m}\u001b[39;00m\u001b[38;5;124m\"\u001b[39m)\n\u001b[0;32m      8\u001b[0m     \u001b[38;5;28mself\u001b[39m\u001b[38;5;241m.\u001b[39mtitle \u001b[38;5;241m=\u001b[39m new_title\n",
      "File \u001b[1;32m~\\AppData\\Local\\Programs\\Python\\Python312\\Lib\\site-packages\\ipykernel\\kernelbase.py:1262\u001b[0m, in \u001b[0;36mKernel.raw_input\u001b[1;34m(self, prompt)\u001b[0m\n\u001b[0;32m   1260\u001b[0m     msg \u001b[38;5;241m=\u001b[39m \u001b[38;5;124m\"\u001b[39m\u001b[38;5;124mraw_input was called, but this frontend does not support input requests.\u001b[39m\u001b[38;5;124m\"\u001b[39m\n\u001b[0;32m   1261\u001b[0m     \u001b[38;5;28;01mraise\u001b[39;00m StdinNotImplementedError(msg)\n\u001b[1;32m-> 1262\u001b[0m \u001b[38;5;28;01mreturn\u001b[39;00m \u001b[38;5;28;43mself\u001b[39;49m\u001b[38;5;241;43m.\u001b[39;49m\u001b[43m_input_request\u001b[49m\u001b[43m(\u001b[49m\n\u001b[0;32m   1263\u001b[0m \u001b[43m    \u001b[49m\u001b[38;5;28;43mstr\u001b[39;49m\u001b[43m(\u001b[49m\u001b[43mprompt\u001b[49m\u001b[43m)\u001b[49m\u001b[43m,\u001b[49m\n\u001b[0;32m   1264\u001b[0m \u001b[43m    \u001b[49m\u001b[38;5;28;43mself\u001b[39;49m\u001b[38;5;241;43m.\u001b[39;49m\u001b[43m_parent_ident\u001b[49m\u001b[43m[\u001b[49m\u001b[38;5;124;43m\"\u001b[39;49m\u001b[38;5;124;43mshell\u001b[39;49m\u001b[38;5;124;43m\"\u001b[39;49m\u001b[43m]\u001b[49m\u001b[43m,\u001b[49m\n\u001b[0;32m   1265\u001b[0m \u001b[43m    \u001b[49m\u001b[38;5;28;43mself\u001b[39;49m\u001b[38;5;241;43m.\u001b[39;49m\u001b[43mget_parent\u001b[49m\u001b[43m(\u001b[49m\u001b[38;5;124;43m\"\u001b[39;49m\u001b[38;5;124;43mshell\u001b[39;49m\u001b[38;5;124;43m\"\u001b[39;49m\u001b[43m)\u001b[49m\u001b[43m,\u001b[49m\n\u001b[0;32m   1266\u001b[0m \u001b[43m    \u001b[49m\u001b[43mpassword\u001b[49m\u001b[38;5;241;43m=\u001b[39;49m\u001b[38;5;28;43;01mFalse\u001b[39;49;00m\u001b[43m,\u001b[49m\n\u001b[0;32m   1267\u001b[0m \u001b[43m\u001b[49m\u001b[43m)\u001b[49m\n",
      "File \u001b[1;32m~\\AppData\\Local\\Programs\\Python\\Python312\\Lib\\site-packages\\ipykernel\\kernelbase.py:1305\u001b[0m, in \u001b[0;36mKernel._input_request\u001b[1;34m(self, prompt, ident, parent, password)\u001b[0m\n\u001b[0;32m   1302\u001b[0m \u001b[38;5;28;01mexcept\u001b[39;00m \u001b[38;5;167;01mKeyboardInterrupt\u001b[39;00m:\n\u001b[0;32m   1303\u001b[0m     \u001b[38;5;66;03m# re-raise KeyboardInterrupt, to truncate traceback\u001b[39;00m\n\u001b[0;32m   1304\u001b[0m     msg \u001b[38;5;241m=\u001b[39m \u001b[38;5;124m\"\u001b[39m\u001b[38;5;124mInterrupted by user\u001b[39m\u001b[38;5;124m\"\u001b[39m\n\u001b[1;32m-> 1305\u001b[0m     \u001b[38;5;28;01mraise\u001b[39;00m \u001b[38;5;167;01mKeyboardInterrupt\u001b[39;00m(msg) \u001b[38;5;28;01mfrom\u001b[39;00m \u001b[38;5;28;01mNone\u001b[39;00m\n\u001b[0;32m   1306\u001b[0m \u001b[38;5;28;01mexcept\u001b[39;00m \u001b[38;5;167;01mException\u001b[39;00m:\n\u001b[0;32m   1307\u001b[0m     \u001b[38;5;28mself\u001b[39m\u001b[38;5;241m.\u001b[39mlog\u001b[38;5;241m.\u001b[39mwarning(\u001b[38;5;124m\"\u001b[39m\u001b[38;5;124mInvalid Message:\u001b[39m\u001b[38;5;124m\"\u001b[39m, exc_info\u001b[38;5;241m=\u001b[39m\u001b[38;5;28;01mTrue\u001b[39;00m)\n",
      "\u001b[1;31mKeyboardInterrupt\u001b[0m: Interrupted by user"
     ]
    }
   ],
   "source": [
    "my_video.add_title()"
   ]
  },
  {
   "cell_type": "code",
   "execution_count": 9,
   "metadata": {},
   "outputs": [
    {
     "name": "stdin",
     "output_type": "stream",
     "text": [
      "What are you watching? scrubs\n"
     ]
    },
    {
     "name": "stdout",
     "output_type": "stream",
     "text": [
      "You are watching: tacoma, now you're watching scrubs\n",
      "You are watching: scrubs\n"
     ]
    }
   ],
   "source": [
    "my_video.add_title()"
   ]
  },
  {
   "cell_type": "code",
   "execution_count": 14,
   "metadata": {},
   "outputs": [],
   "source": [
    "# attributes from instances are unique to that instance\n",
    "# attributes are \"protected\" by the class itself and can have further protection at various levels based on acces modifiers\n",
    "class Video:\n",
    "    def __init__(self):\n",
    "        self.title = None\n",
    "        self.length = timedelta()\n",
    "        self.link = generic_image\n",
    "\n",
    "    def play(self):\n",
    "        print(f\"Now playing {self.title}\")\n",
    "        display(Image(url=self.link))\n",
    "\n",
    "    def __len__(self):\n",
    "        return self.length\n",
    "\n",
    "    def __repr__(self):\n",
    "        return f\"{self.title} is {self.length.seconds} seconds long\""
   ]
  },
  {
   "cell_type": "markdown",
   "metadata": {},
   "source": [
    "## INHERITANCE"
   ]
  },
  {
   "cell_type": "markdown",
   "metadata": {},
   "source": [
    "Inheritance can be defined as the process where one class acquires the properties (methods and fields) of another.\n",
    "<br>\n",
    "<i>(see above)</i>"
   ]
  },
  {
   "cell_type": "code",
   "execution_count": 30,
   "metadata": {},
   "outputs": [],
   "source": [
    "# episode inherits from video class\n",
    "class Episode(Video):\n",
    "    def __init__(self, data):\n",
    "        super().__init__()\n",
    "        self.number = data[\"number\"]\n",
    "        self.season = data[\"season\"]\n",
    "        self.date_aired = data[\"airdate\"]\n",
    "        self.summary = data[\"summary\"]\n",
    "        self.rating = data[\"rating\"][\"average\"]\n",
    "        self.title = data[\"name\"]\n",
    "        self.length = timedelta(minutes = data[\"runtime\"])\n",
    "        if data[\"image\"]:\n",
    "            self.link = data[\"image\"][\"medium\"]\n",
    "\n",
    "\n",
    "        \n",
    "\n",
    "\n"
   ]
  },
  {
   "cell_type": "markdown",
   "metadata": {},
   "source": [
    "## POLYMORPHISM"
   ]
  },
  {
   "cell_type": "markdown",
   "metadata": {},
   "source": [
    "In object-oriented programming, polymorphism (from the Greek meaning “having multiple forms”) is the characteristic of being able to assign a different meaning or usage to something in different contexts — specifically, to allow an entity such as a function, or an object to have more than one form.\n",
    "<br><br>\n"
   ]
  },
  {
   "cell_type": "code",
   "execution_count": 63,
   "metadata": {},
   "outputs": [],
   "source": [
    "class Series():\n",
    "    def __init__(self):\n",
    "        self.id = None\n",
    "        self.network = None\n",
    "        self.seasons = None\n",
    "        self.summary = None\n",
    "        self.title = None\n",
    "        self.genres = []\n",
    "        self.episodes = []\n",
    "\n",
    "    def get_info(self, query=\"\"):\n",
    "        data = None #incase we cant find the show we are looking for\n",
    "        while not data: #loop as long as we dont find and set daya from a series\n",
    "            if not query: #if we dont pass a query argument\n",
    "                query = input(\"What is the name of the series?\")\n",
    "\n",
    "            r = requests.get(f\"https://api.tvmaze.com/singlesearch/shows?q={query}\")\n",
    "            if r.status_code == 200:\n",
    "                data = r.json()\n",
    "\n",
    "            else:\n",
    "                print(f\"Series Error: status_code {r.status_code}\")\n",
    "\n",
    "        # using data to set our attributes\n",
    "        self.id = data[\"id\"]\n",
    "        self.title = data[\"name\"]\n",
    "        self.genres = data[\"genres\"]\n",
    "        if data[\"network\"]:\n",
    "            self.network = data[\"network\"][\"name\"]\n",
    "        else:\n",
    "            self.network = data[\"webChannel\"][\"name\"]\n",
    "\n",
    "        # Api call for episodes\n",
    "        r = requests.get(f\"https://api.tvmaze.com/shows/{self.id}/episodes\")\n",
    "        if r.status_code == 200:\n",
    "            episodes_data = r.json()\n",
    "        else:\n",
    "            print(f\"Episode Error: Status code {r.status_code}\")\n",
    "\n",
    "        self.season = episodes_data[-1][\"season\"] #last dictonary in the episode list, which is also the last season\n",
    "        self.episodes = [Episode(ep) for ep in episodes_data] #antoher class as an attribute = object composition\n",
    "        print(f\"{self.title} has {len(self.episodes)} episodes\")\n",
    "\n",
    "\n",
    "    def watch(self):\n",
    "        for i in range(len(self.episodes)):\n",
    "            if i >= 0 and i % 3 == 0:\n",
    "                watching = input(\"Are you still watching? \")\n",
    "                if watching.lower().strip() not in (\"yes\", \"y\"):\n",
    "                    break\n",
    "            self.episodes[i].play()\n",
    "            sleep(self.episodes[i].length.seconds/1000)\n",
    "\n",
    "    def __len__(self):\n",
    "        return len(self.episodes)\n",
    "\n",
    "    def __repr__(self):\n",
    "        return f\"Title: {self.title}\"\n",
    "        \n",
    "            \n"
   ]
  },
  {
   "cell_type": "code",
   "execution_count": 64,
   "metadata": {},
   "outputs": [],
   "source": [
    "first_show = Series()"
   ]
  },
  {
   "cell_type": "code",
   "execution_count": 65,
   "metadata": {},
   "outputs": [
    {
     "name": "stdin",
     "output_type": "stream",
     "text": [
      "What is the name of the series? The office\n"
     ]
    },
    {
     "name": "stdout",
     "output_type": "stream",
     "text": [
      "The Office has 202 episodes\n"
     ]
    }
   ],
   "source": [
    "first_show.get_info()"
   ]
  },
  {
   "cell_type": "code",
   "execution_count": 66,
   "metadata": {},
   "outputs": [
    {
     "name": "stdin",
     "output_type": "stream",
     "text": [
      "Are you still watching?  yes\n"
     ]
    },
    {
     "name": "stdout",
     "output_type": "stream",
     "text": [
      "Now playing Pilot\n"
     ]
    },
    {
     "data": {
      "text/html": [
       "<img src=\"https://static.tvmaze.com/uploads/images/medium_landscape/49/124795.jpg\"/>"
      ],
      "text/plain": [
       "<IPython.core.display.Image object>"
      ]
     },
     "metadata": {},
     "output_type": "display_data"
    },
    {
     "name": "stdout",
     "output_type": "stream",
     "text": [
      "Now playing Diversity Day\n"
     ]
    },
    {
     "data": {
      "text/html": [
       "<img src=\"https://static.tvmaze.com/uploads/images/medium_landscape/49/124859.jpg\"/>"
      ],
      "text/plain": [
       "<IPython.core.display.Image object>"
      ]
     },
     "metadata": {},
     "output_type": "display_data"
    },
    {
     "name": "stdout",
     "output_type": "stream",
     "text": [
      "Now playing Health Care\n"
     ]
    },
    {
     "data": {
      "text/html": [
       "<img src=\"https://static.tvmaze.com/uploads/images/medium_landscape/50/125614.jpg\"/>"
      ],
      "text/plain": [
       "<IPython.core.display.Image object>"
      ]
     },
     "metadata": {},
     "output_type": "display_data"
    },
    {
     "name": "stdin",
     "output_type": "stream",
     "text": [
      "Are you still watching?  yes\n"
     ]
    },
    {
     "name": "stdout",
     "output_type": "stream",
     "text": [
      "Now playing The Alliance\n"
     ]
    },
    {
     "data": {
      "text/html": [
       "<img src=\"https://static.tvmaze.com/uploads/images/medium_landscape/50/125615.jpg\"/>"
      ],
      "text/plain": [
       "<IPython.core.display.Image object>"
      ]
     },
     "metadata": {},
     "output_type": "display_data"
    },
    {
     "name": "stdout",
     "output_type": "stream",
     "text": [
      "Now playing Basketball\n"
     ]
    },
    {
     "data": {
      "text/html": [
       "<img src=\"https://static.tvmaze.com/uploads/images/medium_landscape/50/126301.jpg\"/>"
      ],
      "text/plain": [
       "<IPython.core.display.Image object>"
      ]
     },
     "metadata": {},
     "output_type": "display_data"
    },
    {
     "name": "stdout",
     "output_type": "stream",
     "text": [
      "Now playing Hot Girl\n"
     ]
    },
    {
     "data": {
      "text/html": [
       "<img src=\"https://static.tvmaze.com/uploads/images/medium_landscape/50/126302.jpg\"/>"
      ],
      "text/plain": [
       "<IPython.core.display.Image object>"
      ]
     },
     "metadata": {},
     "output_type": "display_data"
    },
    {
     "name": "stdin",
     "output_type": "stream",
     "text": [
      "Are you still watching?  no\n"
     ]
    }
   ],
   "source": [
    "first_show.watch()"
   ]
  },
  {
   "cell_type": "code",
   "execution_count": 71,
   "metadata": {},
   "outputs": [],
   "source": [
    "class User:\n",
    "    __id_counter = 1 # class attribute, only the class itself is going to interact with\n",
    "\n",
    "    def __init__(self, username, password):\n",
    "        self.username = username\n",
    "        self.password = password[::-2]\n",
    "        self.id = User.__id_counter\n",
    "        User.__id_counter += 1\n",
    "        self.watch_list = []\n",
    "\n",
    "    def __str__(self):\n",
    "        formatted_user = f\"\"\"\n",
    "        {self.id} - {self.username.title()}\n",
    "        pw: {self.password}\n",
    "        \"\"\"\n",
    "        return formatted_user\n",
    "\n",
    "    def __repr__(self):\n",
    "        return f\"<User {self.id} | {self.username}\"\n",
    "\n",
    "    def check_password(self, password_guess):\n",
    "        return self.password == password_guess[::-2]\n",
    "        "
   ]
  },
  {
   "cell_type": "markdown",
   "metadata": {},
   "source": [
    "## ABSTRACTION"
   ]
  },
  {
   "cell_type": "markdown",
   "metadata": {},
   "source": [
    "Abstraction is a process of hiding the implementation details from the user, only the functionality will be provided to the user. We have a bit to do before this becomes visible. But you've seen it before with presenting the user with the option to enter inputs. We then take those input and do something with them.\n",
    "<br><br>"
   ]
  },
  {
   "cell_type": "code",
   "execution_count": 72,
   "metadata": {},
   "outputs": [],
   "source": [
    "from datetime import timedelta, date\n",
    "from IPython.display import Image\n",
    "import requests\n",
    "from time import sleep\n",
    "\n",
    "generic_image = 'codeflix.png'\n",
    "\n",
    "class Theater():\n",
    "\n",
    "    def __init__(self):\n",
    "        self.users = set()\n",
    "        self.current_user = None\n",
    "\n",
    "\n",
    "    # add a user to our collection of users\n",
    "    def add_user(self):\n",
    "        username = input(\"Please enter a username: \")\n",
    "        if username in {u.username for u in self.users}:\n",
    "            print(\"User with that name already exists. Please try again!\") #409, conflict in requests\n",
    "\n",
    "        else:\n",
    "            password = input(\"Please enter your password. \")\n",
    "            user = User(username, password)\n",
    "            self.users.add(user)\n",
    "            print(f\"{user} has been created!!\")\n",
    "\n",
    "        self.login_user()\n",
    "\n",
    "    # choose a user, login\n",
    "    def login_user(self):\n",
    "        username = input(\"What is your username? \")\n",
    "        password = input(\"What is your password? \")\n",
    "\n",
    "        for user in self.users:\n",
    "            if user.username == username and user.check_password(password):\n",
    "                self.current_user = user\n",
    "                print(f\"{user} has logged in!\")\n",
    "                break\n",
    "\n",
    "        else:\n",
    "            print(\"Username and/or password is incorrect\")\n",
    "\n",
    "    def logout(self):\n",
    "        self.current_user = None\n",
    "        print(\"You have succesfully logged out!\")\n",
    "\n",
    "    # update user information\n",
    "    def update_user(self):\n",
    "        # check if we even have a current user\n",
    "        if self.current_user:\n",
    "            print(self.current_user)\n",
    "            new_user = input(\"Please enter the updated username or enter skip to keep your current username. \")\n",
    "            if new_user.lower() != \"skip\":\n",
    "                # referencing the current user object, specifically the username attribute\n",
    "                self.current_user.username = new_user\n",
    "            new_pw = input(\"Please enter the updated password or enter skip to keep current password. \")\n",
    "            if new_pw.lower() != \"skip\":\n",
    "                # referencing the current user object, specifically the password attribute\n",
    "                self.current_user.password = new_pw\n",
    "\n",
    "            print(f\"{self.current_user.username}'s info has been updated!\")\n",
    "\n",
    "        else:\n",
    "            print(\"Please login to update information.\")\n",
    "            self.login_user()\n",
    "\n",
    "\n",
    "    # --------------------- interacting with the watchlist on the User ---------------------------------\n",
    "\n",
    "    # add to watchlist\n",
    "    def add_to_watchlist(self, query=''):\n",
    "        # instatiates the Series class\n",
    "        show = Series()\n",
    "        show.get_info(query)\n",
    "        # add our show (instance of the Series class) to the current_user object's watchlist attribute\n",
    "        self.current_user.watch_list.append(show)\n",
    "\n",
    "        print(f\"{show.title} has been added to the watchlist!\")\n",
    "\n",
    "    # view watchlist\n",
    "    def view_watchlist(self):\n",
    "        for series in self.current_user.watch_list:\n",
    "            print(f\"\\n\\n{series} | Episodes: {len(series)}\")\n",
    "            print(f\"\\nSummary: \\n {series.summary}\")\n",
    "            #                 instance of Series, episodes attribute, first episdoe, link attribute from that first episode object\n",
    "            display(Image(url=series.episodes[0].link))\n",
    "\n",
    "    # delete from watchlist\n",
    "    def delete(self):\n",
    "        print(\"Your current watch list: \")\n",
    "        self.view_watchlist()\n",
    "\n",
    "        response = input(\"What would you like to remove from your watch list? \")\n",
    "        for series in self.current_user.watch_list:\n",
    "            # Series instance.title attribute. title method that capitalizes the first letter of the string. \n",
    "            if series.title.title() == response.title():\n",
    "                self.current_user.watch_list.remove(series)\n",
    "                print(f\"{response.title()} has been removed from your watch list!\")\n",
    "                break\n",
    "        else:\n",
    "            print(\"That title is not in your watch list! \") # 404 not found\n",
    "\n",
    "        self.view_watchlist()\n",
    "\n",
    "    # choose from watchlist\n",
    "    def choose_from_watchlist(self):\n",
    "        self.view_watchlist()\n",
    "\n",
    "        watch = input(\"What would you like to watch? \")\n",
    "        for series in self.current_user.watch_list:\n",
    "            if series.title.lower() == watch.lower().strip():\n",
    "                series.watch()\n",
    "                break\n",
    "\n",
    "        else:\n",
    "            response = input(f\"{watch} is not in your watch list... would you like to add it.... y/n?\")\n",
    "            if response in ('yes', 'y'):\n",
    "                self.add_to_watchlist(watch)\n",
    "                print(\".........\")\n",
    "                sleep(2)\n",
    "                print(\".........\")\n",
    "                self.current_user.watch_list[-1].watch()\n",
    "\n",
    "\n",
    "    # run function to drive the program\n",
    "    def run(self):\n",
    "        \"\"\"\n",
    "        Method allowing users to sign in, choose a series, and play episodes\n",
    "        \"\"\"\n",
    "        display(Image(url=generic_image))\n",
    "\n",
    "        if self.users:\n",
    "            self.choose_user()\n",
    "        else:\n",
    "            self.add_user()\n",
    "\n",
    "            print(\"\"\"\n",
    "            What would you like to do?\n",
    "            Add- add a new user\n",
    "            Login - login to a your profile\n",
    "            Update - update user info\n",
    "            Logout - logout of your profile\n",
    "            Search - Search for shows\n",
    "            Watch - Pick something from your watchlist\n",
    "            View - View watch list\n",
    "            Delete - Delete from watch list\n",
    "            Quit - Close the application           \n",
    "            \n",
    "            \n",
    "            \"\"\")\n",
    "\n",
    "        while True:\n",
    "            response = input(\"What would you like to do? (add, update, login, logout, search, watch, view, delete, quit) \")\n",
    "            \n",
    "            if response.lower() == \"search\":\n",
    "                self.add_to_watchlist()\n",
    "            elif response.lower() == \"watch\":\n",
    "                self.choose_from_watchlist()\n",
    "            elif response.lower() == \"add\":\n",
    "                self.add_user()\n",
    "            elif response.lower() == 'logout':\n",
    "                self.logout()\n",
    "                new_response = input(\"What would you like to do next? login, add, quit\")\n",
    "                if new_response.lower() == 'add':\n",
    "                    self.add_user()\n",
    "                elif new_response.lower() == 'login':\n",
    "                    self.login_user()\n",
    "                elif new_response.lower() == 'quit':\n",
    "                    print(\"Thanks for watching!\")\n",
    "                    break\n",
    "                else:\n",
    "                    print(\"Please enter a valid response and try again!\")\n",
    "            elif response.lower() == 'login':\n",
    "                self.login_user()\n",
    "            elif response.lower() == \"update\":\n",
    "                self.update_user()\n",
    "                    \n",
    "                    \n",
    "            \n",
    "            elif response.lower() == \"view\":\n",
    "                self.view_watchlist()\n",
    "            elif response.lower() == \"delete\":\n",
    "                self.delete()\n",
    "            elif response.lower() == \"quit\":\n",
    "                print(f\"Thanks for watching! {self.current_user}! Now go outside!\")\n",
    "                break\n",
    "            else:\n",
    "                print(\"Invalid Input: please choose from the list!\")\n",
    "\n",
    "\n",
    "\n",
    "        \n"
   ]
  },
  {
   "cell_type": "code",
   "execution_count": 73,
   "metadata": {},
   "outputs": [],
   "source": [
    "codeflix = Theater()"
   ]
  },
  {
   "cell_type": "code",
   "execution_count": null,
   "metadata": {},
   "outputs": [
    {
     "data": {
      "text/html": [
       "<img src=\"codeflix.png\"/>"
      ],
      "text/plain": [
       "<IPython.core.display.Image object>"
      ]
     },
     "metadata": {},
     "output_type": "display_data"
    },
    {
     "name": "stdin",
     "output_type": "stream",
     "text": [
      "Please enter a username:  stosh\n",
      "Please enter your password.  123\n"
     ]
    },
    {
     "name": "stdout",
     "output_type": "stream",
     "text": [
      "\n",
      "        1 - Stosh\n",
      "        pw: 31\n",
      "         has been created!!\n"
     ]
    },
    {
     "name": "stdin",
     "output_type": "stream",
     "text": [
      "What is your username?  stosh\n",
      "What is your password?  123\n"
     ]
    },
    {
     "name": "stdout",
     "output_type": "stream",
     "text": [
      "\n",
      "        1 - Stosh\n",
      "        pw: 31\n",
      "         has logged in!\n",
      "\n",
      "            What would you like to do?\n",
      "            Add- add a new user\n",
      "            Login - login to a your profile\n",
      "            Update - update user info\n",
      "            Logout - logout of your profile\n",
      "            Search - Search for shows\n",
      "            Watch - Pick something from your watchlist\n",
      "            View - View watch list\n",
      "            Delete - Delete from watch list\n",
      "            Quit - Close the application           \n",
      "            \n",
      "            \n",
      "            \n"
     ]
    },
    {
     "name": "stdin",
     "output_type": "stream",
     "text": [
      "What would you like to do? (add, update, login, logout, search, watch, view, delete, quit)  search\n",
      "What is the name of the series? The office\n"
     ]
    },
    {
     "name": "stdout",
     "output_type": "stream",
     "text": [
      "The Office has 202 episodes\n",
      "The Office has been added to the watchlist!\n"
     ]
    },
    {
     "name": "stdin",
     "output_type": "stream",
     "text": [
      "What would you like to do? (add, update, login, logout, search, watch, view, delete, quit)  watch\n"
     ]
    },
    {
     "name": "stdout",
     "output_type": "stream",
     "text": [
      "\n",
      "\n",
      "Title: The Office | Episodes: 202\n",
      "\n",
      "Summary: \n",
      " None\n"
     ]
    },
    {
     "data": {
      "text/html": [
       "<img src=\"https://static.tvmaze.com/uploads/images/medium_landscape/49/124795.jpg\"/>"
      ],
      "text/plain": [
       "<IPython.core.display.Image object>"
      ]
     },
     "metadata": {},
     "output_type": "display_data"
    },
    {
     "name": "stdin",
     "output_type": "stream",
     "text": [
      "What would you like to watch?  The Office\n",
      "Are you still watching?  yes\n"
     ]
    },
    {
     "name": "stdout",
     "output_type": "stream",
     "text": [
      "Now playing Pilot\n"
     ]
    },
    {
     "data": {
      "text/html": [
       "<img src=\"https://static.tvmaze.com/uploads/images/medium_landscape/49/124795.jpg\"/>"
      ],
      "text/plain": [
       "<IPython.core.display.Image object>"
      ]
     },
     "metadata": {},
     "output_type": "display_data"
    },
    {
     "name": "stdout",
     "output_type": "stream",
     "text": [
      "Now playing Diversity Day\n"
     ]
    },
    {
     "data": {
      "text/html": [
       "<img src=\"https://static.tvmaze.com/uploads/images/medium_landscape/49/124859.jpg\"/>"
      ],
      "text/plain": [
       "<IPython.core.display.Image object>"
      ]
     },
     "metadata": {},
     "output_type": "display_data"
    },
    {
     "name": "stdout",
     "output_type": "stream",
     "text": [
      "Now playing Health Care\n"
     ]
    },
    {
     "data": {
      "text/html": [
       "<img src=\"https://static.tvmaze.com/uploads/images/medium_landscape/50/125614.jpg\"/>"
      ],
      "text/plain": [
       "<IPython.core.display.Image object>"
      ]
     },
     "metadata": {},
     "output_type": "display_data"
    },
    {
     "name": "stdin",
     "output_type": "stream",
     "text": [
      "Are you still watching?  no\n"
     ]
    }
   ],
   "source": [
    "codeflix.run()"
   ]
  },
  {
   "cell_type": "markdown",
   "metadata": {},
   "source": [
    "## Exercise 1"
   ]
  },
  {
   "cell_type": "markdown",
   "metadata": {},
   "source": [
    "<p>Describe in your own words the following concepts and give an analogy tying to a real-world concept."
   ]
  },
  {
   "cell_type": "markdown",
   "metadata": {},
   "source": [
    "#### Difference between a Class and an Object"
   ]
  },
  {
   "cell_type": "code",
   "execution_count": null,
   "metadata": {},
   "outputs": [],
   "source": [
    "A class is sort of  a template for objects while object is something in that class or instance. One real world that i think of is vehicles is the template of what we are creating \n",
    "then the object is like a car or a mortacycle where we starting creating a more specfic vehicle in that class."
   ]
  },
  {
   "cell_type": "markdown",
   "metadata": {},
   "source": [
    "#### Encapsulation"
   ]
  },
  {
   "cell_type": "code",
   "execution_count": null,
   "metadata": {},
   "outputs": [],
   "source": [
    "This is where it is taking in data and methods into a single data. An example is podcast where you have to set up computers, wires, microphones, cameras etc. where then the user will\n",
    "only see the people and microphones where it takes a lot more than just a camera and microphone."
   ]
  },
  {
   "cell_type": "markdown",
   "metadata": {},
   "source": [
    "#### Inheritance"
   ]
  },
  {
   "cell_type": "code",
   "execution_count": null,
   "metadata": {},
   "outputs": [],
   "source": [
    " Inheritance is like a family tree where the parent class passes down to the child classes. An example in real world would be a laptop would be a child and the parent of the laptop would\n",
    "be the device. You choose what model and what you want for the laptop from the device."
   ]
  },
  {
   "cell_type": "markdown",
   "metadata": {},
   "source": [
    "#### Polymorphism"
   ]
  },
  {
   "cell_type": "code",
   "execution_count": null,
   "metadata": {},
   "outputs": [],
   "source": [
    "Polymorphism is where you can hae multiple types of objects in a single function. For an example when we did Dog and we can get specific about the dogs. "
   ]
  },
  {
   "cell_type": "markdown",
   "metadata": {},
   "source": [
    "#### Abstraction"
   ]
  },
  {
   "cell_type": "code",
   "execution_count": null,
   "metadata": {},
   "outputs": [],
   "source": [
    "Abstraction is more of what the user see's. We are hiding code from the user. A real life example is a computer mouse where we dont see all the mechanical stuff in it but besiseds the button\n",
    "that helps use operate and use it."
   ]
  },
  {
   "cell_type": "markdown",
   "metadata": {},
   "source": [
    "##  Exercise 2 (Optional):\n",
    "Discuss what other classes, methods, or fields (attributes) we could make to improve our streaming service using these principles. <br> <br>\n",
    "Start making a few of them and see where it leads. Make sure you either write out your thoughts in the below cell  or comment where you added code to the above Classes."
   ]
  },
  {
   "cell_type": "code",
   "execution_count": null,
   "metadata": {},
   "outputs": [],
   "source": []
  }
 ],
 "metadata": {
  "kernelspec": {
   "display_name": "Python 3 (ipykernel)",
   "language": "python",
   "name": "python3"
  },
  "language_info": {
   "codemirror_mode": {
    "name": "ipython",
    "version": 3
   },
   "file_extension": ".py",
   "mimetype": "text/x-python",
   "name": "python",
   "nbconvert_exporter": "python",
   "pygments_lexer": "ipython3",
   "version": "3.12.1"
  }
 },
 "nbformat": 4,
 "nbformat_minor": 4
}
